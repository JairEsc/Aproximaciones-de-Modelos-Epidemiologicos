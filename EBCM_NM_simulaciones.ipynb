{
  "nbformat": 4,
  "nbformat_minor": 0,
  "metadata": {
    "colab": {
      "provenance": [],
      "authorship_tag": "ABX9TyNykfcjqQUACVcww4fvbmBy",
      "include_colab_link": true
    },
    "kernelspec": {
      "name": "python3",
      "display_name": "Python 3"
    },
    "language_info": {
      "name": "python"
    }
  },
  "cells": [
    {
      "cell_type": "markdown",
      "metadata": {
        "id": "view-in-github",
        "colab_type": "text"
      },
      "source": [
        "<a href=\"https://colab.research.google.com/github/JairEsc/Aproximaciones-de-Modelos-Epidemiologicos/blob/main/EBCM_NM_simulaciones.ipynb\" target=\"_parent\"><img src=\"https://colab.research.google.com/assets/colab-badge.svg\" alt=\"Open In Colab\"/></a>"
      ]
    },
    {
      "cell_type": "code",
      "source": [
        "import numpy as np\n",
        "import pandas as pd\n",
        "import matplotlib.pyplot as plt\n",
        "from scipy.optimize import newton\n",
        "import networkx as nx"
      ],
      "metadata": {
        "id": "bJbEssUT73PU"
      },
      "execution_count": 1,
      "outputs": []
    },
    {
      "cell_type": "code",
      "source": [
        "def Funciones_dado_metodo(u,method='',params=[],densities=[],survivals=[],aristas_en_riesgo=[],vertices_infecciosos=[]):\n",
        "  if method=='general' or method=='aproximado':\n",
        "    psi_infection,psi_recovery=densities\n",
        "    psi_survival_infection,psi_survival_recovery=survivals\n",
        "    def f_to_solve_general(x):\n",
        "      S_1=np.sum([np.log(psi_survival_infection(x+r)) for r in aristas_en_riesgo['tiempo']])\n",
        "      S_2=np.sum([np.log(psi_survival_recovery(x+r)) for r in vertices_infecciosos['tiempo']])\n",
        "      S_3=np.sum([np.log(psi_survival_infection(r)) for r in aristas_en_riesgo['tiempo']])\n",
        "      S_4=np.sum([np.log(psi_survival_recovery(r)) for r in vertices_infecciosos['tiempo']])\n",
        "      return (S_1+S_2-S_3-S_4-np.log(u))\n",
        "    def f_to_solve_general_prime(x):\n",
        "      S_1=np.sum([(psi_infection(x+r)/psi_survival_infection(x+r)) for r in aristas_en_riesgo['tiempo']])\n",
        "      S_2=np.sum([(psi_recovery(x+r)/psi_survival_recovery(x+r)) for r in vertices_infecciosos['tiempo']])\n",
        "      return (-S_1-S_2)\n",
        "    return 0,0,0,0,f_to_solve_general,f_to_solve_general_prime\n",
        "  if method=='Weibull':\n",
        "    a_I,a_R,lammbda_I,lammbda_R=params\n",
        "    def f_to_solve(x):\n",
        "      S_1=np.sum([(x+r)**(a_I) for r in aristas_en_riesgo['tiempo']])\n",
        "      S_2=np.sum([(x+r)**(a_R) for r in vertices_infecciosos['tiempo']])\n",
        "      S_3=np.sum([r**a_I for r in aristas_en_riesgo['tiempo']])\n",
        "      S_4=np.sum([r**a_R for r in vertices_infecciosos['tiempo']])\n",
        "      return ((lammbda_I**(a_I))*(S_1-S_3)+(lammbda_R**(a_R))*(S_2-S_4)+np.log(u))\n",
        "    def f_to_solve_prime(x):\n",
        "      S_1=a_I*np.sum([(x+r)**(a_I-1) for r in aristas_en_riesgo['tiempo']])\n",
        "      S_2=a_R*np.sum([(x+r)**(a_R-1) for r in vertices_infecciosos['tiempo']])\n",
        "      return (a_I*(lammbda_I**(a_I))*S_1+a_R*(lammbda_R**(a_R))*S_2)\n",
        "    return  a_I,a_R,lammbda_I,lammbda_R,f_to_solve,f_to_solve_prime\n",
        "def Gillespie_Direct_Method_Non_markovian_network(N,X_I_indexes,method='',params=[],densities=[],survivals=[],G_network_initial=nx.Graph(),T=np.inf,tuto=False):\n",
        "  #Recibe: method:\n",
        "    #'general': Dando las densidades y supervivencias\n",
        "    #'aproximado': Dando las densidades y supervivencias\n",
        "    #'Weibull': Dando un vector de parámetros con $a_I,a_R,lammbda_I,lammbda_R\"\n",
        "  #Recibe: G_newtwork_initial la gráfica generada con Networkx\n",
        "  #Recibe: X_I_indexes, un vector de indices de los nodos incicialmente infecciosos (al tiempo t=0)\n",
        "\n",
        "  #--------------------------------------\n",
        "  #Paso 0\n",
        "  t=0\n",
        "  X_I=len(X_I_indexes)\n",
        "  X_S=N-X_I\n",
        "  X_R=0\n",
        "  Historia=[[0,X_S,X_I]]\n",
        "  #Definir aristas_en_riesgo:\n",
        "  aristas_en_riesgo={'arista':[],'tiempo':[]}\n",
        "  vertices_infecciosos={'vertice':[],'tiempo':[]}\n",
        "  #Llenar estos arreglos.\n",
        "  #N es el número de individuos.\n",
        "  for j in X_I_indexes:\n",
        "    vertices_infecciosos['vertice'].append(j)\n",
        "    vertices_infecciosos['tiempo'].append(0)\n",
        "    for i in range(N):\n",
        "      if G_network_initial.has_edge(i,j) and i not in X_I_indexes:\n",
        "        aristas_en_riesgo['arista'].append((min(i,j),max(i,j)))#Los agregamos en un orden específico.\n",
        "        aristas_en_riesgo['tiempo'].append(0)\n",
        "  #--------------------------------------\n",
        "  if(tuto):\n",
        "    print(\"Inicia:\")\n",
        "    print(\"Condiciones iniciales: N=\",N,'X_I=',len(X_I_indexes))\n",
        "    print(\"aristas_en_riesgo:\",aristas_en_riesgo['arista'])\n",
        "    print(\"vertices_infecciosos:\",vertices_infecciosos['vertice'])\n",
        "    print(\"Asi se ve la grafica:n\")\n",
        "    nx.draw(G=G_network_initial,pos=pos,node_color=['green' if G_network_initial.nodes[i]['Estado:']=='Susceptible' else 'red' if G_network_initial.nodes[i]['Estado:']=='Infeccioso' else 'gray' for i in G.nodes()],with_labels=True)\n",
        "    plt.show()\n",
        "  #Paso 1\n",
        "  while(X_I>0 and t<T):\n",
        "    u=np.random.uniform()\n",
        "    #Definir la funcion $\\Phi$.\n",
        "    #Depende del metodo y los valores introducidos.\n",
        "    a_I,a_R,lammbda_I,lammbda_R,f_to_solve,f_to_solve_prime=Funciones_dado_metodo(u=u,method=method,params=params,densities=densities,survivals=survivals,aristas_en_riesgo=aristas_en_riesgo,vertices_infecciosos=vertices_infecciosos)\n",
        "    #--------------------------------------\n",
        "    #Paso 2\n",
        "    tau=0.001\n",
        "    if method=='aproximado':\n",
        "      if(len(aristas_en_riesgo['tiempo'])+len(vertices_infecciosos['tiempo'])>=20 ):\n",
        "        sum=0\n",
        "        for r in aristas_en_riesgo['tiempo']:\n",
        "          sum+=psi_infection(r)/psi_survival_infection(r)\n",
        "        for r in vertices_infecciosos['tiempo']:\n",
        "          sum+=psi_recovery(r)/psi_survival_recovery(r)\n",
        "        if(sum>0):\n",
        "          tau=-np.log(u)/(sum)\n",
        "      else:\n",
        "        tau=newton(func=f_to_solve,x0=tau/2,fprime=f_to_solve_prime)\n",
        "    else:\n",
        "      tau=newton(func=f_to_solve,x0=tau/2,fprime=f_to_solve_prime)\n",
        "    #--------------------------------------\n",
        "    #Paso 3-4\n",
        "    #Definir las probabilidades de elección de cada canal\n",
        "    if method=='Weibull':\n",
        "      pi_s_teoricas=[]\n",
        "      sum=0\n",
        "      for j in range(len(aristas_en_riesgo['tiempo'])):\n",
        "        pi_s_teoricas.append(lammbda_I*a_I*(lammbda_I*(tau+aristas_en_riesgo['tiempo'][j]))**(a_I-1))\n",
        "      for j in range(len(vertices_infecciosos['tiempo'])):\n",
        "        pi_s_teoricas.append(lammbda_R*a_R*(lammbda_R*(tau+vertices_infecciosos['tiempo'][j]))**(a_R-1))\n",
        "      pi_s=pi_s_teoricas/np.sum(pi_s_teoricas)\n",
        "    else:\n",
        "      pi_s=[]\n",
        "      sum=0\n",
        "      for i in range(len(aristas_en_riesgo['tiempo'])):\n",
        "        pi_s.append(psi_infection(aristas_en_riesgo['tiempo'][i]+tau)/psi_survival_infection(aristas_en_riesgo['tiempo'][i]+tau))\n",
        "        sum+=pi_s[-1]\n",
        "      for i in range(len(vertices_infecciosos['tiempo'])):\n",
        "        pi_s.append(psi_recovery(vertices_infecciosos['tiempo'][i]+tau)/psi_survival_recovery(vertices_infecciosos['tiempo'][i]+tau))\n",
        "        sum+=pi_s[-1]\n",
        "      pi_s=pi_s/sum\n",
        "    #--------------------------------------\n",
        "    #Paso 5\n",
        "    #Decidir el canal de reacción.\n",
        "    k=np.random.choice(len(pi_s),p=pi_s)\n",
        "    #--------------------------------------\n",
        "    #Paso 6\n",
        "    #Actualizamos los tiempos desde la última reacción de todos los canales.\n",
        "    #I.e. A todas las aristas en riesgo y todos los vértices infecciosos, se les actualiza $t_j+=t_j+tau$\n",
        "    #Incluso para la reacción que Sí ocurrió, pues más adelanta la eliminamos.\n",
        "    aristas_en_riesgo['tiempo']=[tau+x for x in aristas_en_riesgo['tiempo']]\n",
        "    vertices_infecciosos['tiempo']=[tau+x for x in vertices_infecciosos['tiempo']]\n",
        "    if k<len(aristas_en_riesgo['tiempo']):\n",
        "      #Ocurre una infección.\n",
        "      reaccion='infeccion'\n",
        "      X_I+=1\n",
        "      X_S-=1\n",
        "      arista_elegida=aristas_en_riesgo['arista'][k]#k<len(aristas)\n",
        "      involucrado_1,involucrado_2=arista_elegida[0],arista_elegida[1]\n",
        "      #Identificar al nuevo infectado-------------\n",
        "      if(G_network_initial.nodes[involucrado_1]['Estado:']=='Susceptible'):\n",
        "      #involucrado_1 es el nuevo infeccioso\n",
        "        nuevo_infectado=involucrado_1\n",
        "      else:\n",
        "        if(G_network_initial.nodes[involucrado_1]['Estado:']=='Infeccioso'):\n",
        "          nuevo_infectado=involucrado_2\n",
        "        else:\n",
        "          print(\"Algo malo esta ocurriendo\")\n",
        "      G_network_initial.nodes[nuevo_infectado]['Estado:']='Infeccioso'#Actualizacion en el grafo.\n",
        "      #-------------------------\n",
        "      #Agregarlo a la lista vertices_infecciosos con tiempo 0----\n",
        "      vertices_infecciosos['vertice'].append(nuevo_infectado)\n",
        "      vertices_infecciosos['tiempo'].append(0)\n",
        "      #-------------------------\n",
        "      #Agrega a la lista aristas_en_riesgo a aquellas nuevas aristas que podrían provocar una infección, con tiempo 0.\n",
        "      for nei in G_network_initial.neighbors(nuevo_infectado):\n",
        "        if(G_network_initial.nodes[nei]['Estado:']=='Susceptible'):\n",
        "          aristas_en_riesgo['arista'].append((min(nei,nuevo_infectado),max(nei,nuevo_infectado)))\n",
        "          aristas_en_riesgo['tiempo'].append(0)\n",
        "        else:\n",
        "          if(G_network_initial.nodes[nei]['Estado:']=='Infeccioso'):#Arista Infeccioso-Infeccioso, la quitamos.\n",
        "            index=aristas_en_riesgo['arista'].index((min(nuevo_infectado,nei),max(nuevo_infectado,nei)))\n",
        "            aristas_en_riesgo['arista'].pop(index)\n",
        "            aristas_en_riesgo['tiempo'].pop(index)\n",
        "      nuevo_involucrado=nuevo_infectado\n",
        "      #-------------------------\n",
        "    else:\n",
        "      #Ocurre una recuperación.\n",
        "      reaccion='recuperacion'\n",
        "      X_I-=1\n",
        "      X_R+=1\n",
        "      indice_respecto_vertices=k-len(aristas_en_riesgo['tiempo'])#k>=len(aristas). I.e. Es vértice\n",
        "      nuevo_recuperado=vertices_infecciosos['vertice'][indice_respecto_vertices]\n",
        "      #Actualiza el estado a Recuperado.\n",
        "      G_network_initial.nodes[nuevo_recuperado]['Estado:']='Recuperado'#Actualizacion en el grafo.\n",
        "      #-----------------------------\n",
        "      #Elimina de la lista vertices_infecciosos al nuevo recuperado.\n",
        "      vertices_infecciosos['vertice'].pop(indice_respecto_vertices)\n",
        "      vertices_infecciosos['tiempo'].pop(indice_respecto_vertices)\n",
        "      #-----------------------------\n",
        "      #Elimina de la lista aristas_en_riesgo a aquellas aristas que involucran al nuevo recuperado.\n",
        "      aristas_en_riesgo_copia=aristas_en_riesgo['arista'].copy()\n",
        "      count=-1\n",
        "      for l in range(len(aristas_en_riesgo_copia)):\n",
        "        edge=aristas_en_riesgo_copia[l]\n",
        "        if(edge[0]==nuevo_recuperado or edge[1]==nuevo_recuperado):\n",
        "          count+=1\n",
        "          aristas_en_riesgo['arista'].pop(l-count)\n",
        "          aristas_en_riesgo['tiempo'].pop(l-count)\n",
        "      nuevo_involucrado=nuevo_recuperado\n",
        "    t+=tau #Actualiza el tiempo $t=t+\\tau$.\n",
        "    Historia.append([t,X_S,X_I])#Focus\n",
        "  #Fin del While()\n",
        "  return pd.DataFrame(Historia,columns=['time','S(t)','I(t)'])"
      ],
      "metadata": {
        "id": "eIuwh_Q074CB"
      },
      "execution_count": 2,
      "outputs": []
    },
    {
      "cell_type": "code",
      "source": [
        "#Generar gráfica Ley de Potencias truncada.\n",
        "import time\n",
        "start_time_00=time.time()\n",
        "N=10**3\n",
        "I_0=int(0.1*N)\n",
        "import scipy.stats\n",
        "s=0\n",
        "for k in range(3,61):\n",
        "    s+=k**(-2.5)\n",
        "s=s**(-1)\n",
        "deg_sum=1\n",
        "while(deg_sum==1):\n",
        "  grados=np.random.choice(np.arange(3,61),size=N,p=[s*k**(-2.5) for k in range(3,61)])\n",
        "  deg_sum=np.sum(grados)%2\n",
        "G=nx.configuration_model(grados)\n",
        "G = nx.Graph(G)#Remover multi-aristas\n",
        "G.remove_edges_from(nx.selfloop_edges(G))#Remover bucles\n",
        "pos=nx.spring_layout(G,seed=2,k=3)\n",
        "X_I_indexes=np.random.choice(N,size=I_0,replace=False).tolist()\n",
        "for k in range(N):\n",
        "    if k in X_I_indexes:\n",
        "        G.nodes[k]['Estado:']='Infeccioso'\n",
        "    else:\n",
        "        G.nodes[k]['Estado:']='Susceptible'"
      ],
      "metadata": {
        "id": "4ynP8MfQ8r5_"
      },
      "execution_count": 10,
      "outputs": []
    },
    {
      "cell_type": "code",
      "source": [],
      "metadata": {
        "colab": {
          "base_uri": "https://localhost:8080/"
        },
        "id": "A_G-CjbrAqlj",
        "outputId": "b8cd6353-9653-4516-d3c3-26182daddf33"
      },
      "execution_count": 11,
      "outputs": [
        {
          "output_type": "execute_result",
          "data": {
            "text/plain": [
              "3.141592653589793"
            ]
          },
          "metadata": {},
          "execution_count": 11
        }
      ]
    },
    {
      "cell_type": "code",
      "source": [
        "x=np.arange(-1,3,0.01)\n",
        "sigma=0.75\n",
        "mu=1\n",
        "plt.plot(x,scipy.stats.norm.pdf(x,loc=1,scale=0.75))\n"
      ],
      "metadata": {
        "colab": {
          "base_uri": "https://localhost:8080/",
          "height": 447
        },
        "id": "zmdnBbfcCICp",
        "outputId": "ae003623-8dcb-40b9-d5bb-7bd45152caf1"
      },
      "execution_count": 16,
      "outputs": [
        {
          "output_type": "execute_result",
          "data": {
            "text/plain": [
              "[<matplotlib.lines.Line2D at 0x788e5ac27490>]"
            ]
          },
          "metadata": {},
          "execution_count": 16
        },
        {
          "output_type": "display_data",
          "data": {
            "text/plain": [
              "<Figure size 640x480 with 1 Axes>"
            ],
            "image/png": "[encoded data removed]"
          },
          "metadata": {}
        }
      ]
    },
    {
      "cell_type": "code",
      "source": [
        "#densidades y supervivencias\n",
        "#normal----------------------------------\n",
        "mu=1\n",
        "sigma=0.75\n",
        "beta=0.75\n",
        "def psi_survival_infection(x):\n",
        "    return np.exp(-beta*x)\n",
        "def psi_survival_recovery(x):\n",
        "    return 1-scipy.stats.norm.cdf(x,loc=1,scale=0.75)\n",
        "def psi_infection(x):\n",
        "    return beta*np.exp(-beta*x)\n",
        "def psi_recovery(x):\n",
        "    return scipy.stats.norm.pdf(x,loc=mu,scale=sigma)\n",
        "#constante----------------------------------\n",
        "#exp----------------------------------"
      ],
      "metadata": {
        "id": "Ad5YKmz0_x8t"
      },
      "execution_count": 17,
      "outputs": []
    },
    {
      "cell_type": "code",
      "source": [
        "np.sum([s*k**(-2.5) for k in range(3,61)])"
      ],
      "metadata": {
        "colab": {
          "base_uri": "https://localhost:8080/"
        },
        "id": "mCrOeOEN-T7X",
        "outputId": "b2251a3b-1fff-47a6-ceff-36e12dd7075d"
      },
      "execution_count": 8,
      "outputs": [
        {
          "output_type": "execute_result",
          "data": {
            "text/plain": [
              "0.9999999999999998"
            ]
          },
          "metadata": {},
          "execution_count": 8
        }
      ]
    },
    {
      "cell_type": "code",
      "source": [
        "import time\n",
        "start_time = time.time()\n",
        "np.random.seed(0)\n",
        "N=10**2\n",
        "n=int(N*0.1)\n",
        "I_0=int(0.01*N)\n",
        "ksum=1\n",
        "while(ksum%2!=0):#Que defina una grafica.\n",
        "        k_dist=np.random.poisson(n,size=N)\n",
        "        ksum=sum(k_dist)\n",
        "G=nx.configuration_model(k_dist)\n",
        "G = nx.Graph(G)#Remover multi-aristas\n",
        "G.remove_edges_from(nx.selfloop_edges(G))#Remover bucles\n",
        "pos=nx.spring_layout(G,seed=2,k=3)\n",
        "print(\"--- %s Segundos para crear la gráfica ---\" % (time.time() - start_time))\n",
        "X_I_indexes=np.random.choice(N,size=I_0,replace=False).tolist()\n",
        "for k in range(N):\n",
        "    if k in X_I_indexes:\n",
        "        G.nodes[k]['Estado:']='Infeccioso'\n",
        "    else:\n",
        "        G.nodes[k]['Estado:']='Susceptible'\n",
        "print(\"Empieza\")\n",
        "a_I=1.5\n",
        "a_R=1.2\n",
        "import math\n",
        "beta=7.5\n",
        "gamma=1\n",
        "lammbda_I=((beta/N)*math.gamma(1+1/a_I))\n",
        "lammbda_R=(gamma*math.gamma(1+1/a_R))\n",
        "def psi_survival_infection(x):\n",
        "    return np.exp(-(lammbda_I*x)**(a_I))\n",
        "def psi_survival_recovery(x):\n",
        "    return np.exp(-(lammbda_R*x)**(a_R))\n",
        "def psi_infection(x):\n",
        "    return (lammbda_I*a_I)*(lammbda_I*x)**(a_I-1)*np.exp(-(lammbda_I*x)**(a_I))\n",
        "def psi_recovery(x):\n",
        "    return (lammbda_R*a_R)*(lammbda_R*x)**(a_R-1)*np.exp(-(lammbda_R*x)**(a_R))\n",
        "times_general=[]\n",
        "times_general_approx=[]\n",
        "times_weibull=[]\n",
        "times_markovian=[]\n",
        "matriz_trayectorias=[['MG']]\n",
        "picos={\"gen\":[],\"genApprox\":[],\"weib\":[],\"mark\":[]}\n",
        "for k in range(1):\n",
        "    #------------------------------------ General\n",
        "    iter_time = time.time()\n",
        "    H=[]\n",
        "    while(len(H)<100):\n",
        "      G_copy=G.copy()\n",
        "      X_I_indexes_copy=X_I_indexes.copy()\n",
        "      H=Gillespie_Direct_Method_Non_markovian_network(N=N,X_I_indexes=X_I_indexes_copy,method='general',params=[],densities=[psi_infection,psi_recovery],survivals=[psi_survival_infection,psi_survival_recovery],G_network_initial=G_copy,T=14)\n",
        "    if(k==0):\n",
        "        plt.plot(H['time'],H['I(t)'], 'green',linewidth=0.7,label='General (MG)')\n",
        "    else:\n",
        "        plt.plot(H['time'],H['I(t)'], 'green',linewidth=0.7)\n",
        "    i=np.argmax(H['I(t)'])\n",
        "    picos['gen'].append([H['time'][i],H['I(t)'][i]])\n",
        "    times_general.append((time.time() - iter_time))\n",
        "    matriz_trayectorias.append(H['time'])\n",
        "    matriz_trayectorias.append(H['I(t)'])\n",
        "    matriz_trayectorias.append(['MG-T'])"
      ],
      "metadata": {
        "colab": {
          "base_uri": "https://localhost:8080/",
          "height": 465
        },
        "id": "a2c5oz9H8EJb",
        "outputId": "2e024391-1dfc-4dfb-e9e8-392bc04cb328"
      },
      "execution_count": 4,
      "outputs": [
        {
          "output_type": "stream",
          "name": "stdout",
          "text": [
            "--- 0.11415767669677734 Segundos para crear la gráfica ---\n",
            "Empieza\n"
          ]
        },
        {
          "output_type": "display_data",
          "data": {
            "text/plain": [
              "<Figure size 640x480 with 1 Axes>"
            ],
            "image/png": "[encoded data removed]"
          },
          "metadata": {}
        }
      ]
    }
  ]
}